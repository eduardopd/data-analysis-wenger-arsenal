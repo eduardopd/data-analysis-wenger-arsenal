{
 "cells": [
  {
   "cell_type": "markdown",
   "metadata": {},
   "source": [
    "# Arsène Wenger years in charge of Arsenal FC\n"
   ]
  },
  {
   "cell_type": "markdown",
   "metadata": {},
   "source": [
    "## Table of Contents\n",
    "<ul>\n",
    "<li><a href=\"#intro\">Introduction</a></li>\n",
    "<li><a href=\"#wrangling\">Data Wrangling</a></li>\n",
    "<li><a href=\"#eda\">Exploratory Data Analysis</a></li>\n",
    "<li><a href=\"#conclusions\">Conclusions</a></li>\n",
    "<li><a href=\"#statistical\">Statistical Tests</a></li>\n",
    "</ul>"
   ]
  },
  {
   "cell_type": "markdown",
   "metadata": {},
   "source": [
    "<a id='intro'></a>\n",
    "## Introduction\n",
    "\n",
    "> This is an analysis of the period when manager Arsène Wenger was in charge of the Arsenal Football Club. The dataset was gathered from Kaggle and contains information about matches between 1993 (the start of modern English Premier League) and 2018. Manager Arsène Wenger joined Arsenal in August 1996 and left in by the end of 2018 season. "
   ]
  },
  {
   "cell_type": "markdown",
   "metadata": {},
   "source": [
    "<a id='wrangling'></a>\n",
    "## Data Wrangling\n"
   ]
  },
  {
   "cell_type": "markdown",
   "metadata": {},
   "source": [
    "### Gather"
   ]
  },
  {
   "cell_type": "code",
   "execution_count": 36,
   "metadata": {},
   "outputs": [],
   "source": [
    "import zipfile\n",
    "import pandas as pd\n",
    "import numpy as np\n",
    "import random\n",
    "import matplotlib.pyplot as plt\n",
    "%matplotlib inline\n",
    "#We are setting the seed to assure you get the same answers on quizzes as we set up\n",
    "random.seed(42)"
   ]
  },
  {
   "cell_type": "code",
   "execution_count": 2,
   "metadata": {},
   "outputs": [],
   "source": [
    "# Extract contents from Premier League zip file \n",
    "\n",
    "with zipfile.ZipFile('epl-results-19932018.zip', 'r') as myzip:\n",
    "    myzip.extractall()"
   ]
  },
  {
   "cell_type": "code",
   "execution_count": 4,
   "metadata": {},
   "outputs": [],
   "source": [
    "# Read CSV\n",
    "\n",
    "df = pd.read_csv('EPL_Set.csv')"
   ]
  },
  {
   "cell_type": "markdown",
   "metadata": {},
   "source": [
    "### Assess"
   ]
  },
  {
   "cell_type": "code",
   "execution_count": 5,
   "metadata": {},
   "outputs": [
    {
     "data": {
      "text/html": [
       "<div>\n",
       "<style scoped>\n",
       "    .dataframe tbody tr th:only-of-type {\n",
       "        vertical-align: middle;\n",
       "    }\n",
       "\n",
       "    .dataframe tbody tr th {\n",
       "        vertical-align: top;\n",
       "    }\n",
       "\n",
       "    .dataframe thead th {\n",
       "        text-align: right;\n",
       "    }\n",
       "</style>\n",
       "<table border=\"1\" class=\"dataframe\">\n",
       "  <thead>\n",
       "    <tr style=\"text-align: right;\">\n",
       "      <th></th>\n",
       "      <th>Div</th>\n",
       "      <th>Date</th>\n",
       "      <th>HomeTeam</th>\n",
       "      <th>AwayTeam</th>\n",
       "      <th>FTHG</th>\n",
       "      <th>FTAG</th>\n",
       "      <th>FTR</th>\n",
       "      <th>HTHG</th>\n",
       "      <th>HTAG</th>\n",
       "      <th>HTR</th>\n",
       "      <th>Season</th>\n",
       "    </tr>\n",
       "  </thead>\n",
       "  <tbody>\n",
       "    <tr>\n",
       "      <th>0</th>\n",
       "      <td>E0</td>\n",
       "      <td>14/08/93</td>\n",
       "      <td>Arsenal</td>\n",
       "      <td>Coventry</td>\n",
       "      <td>0</td>\n",
       "      <td>3</td>\n",
       "      <td>A</td>\n",
       "      <td>NaN</td>\n",
       "      <td>NaN</td>\n",
       "      <td>NaN</td>\n",
       "      <td>1993-94</td>\n",
       "    </tr>\n",
       "    <tr>\n",
       "      <th>1</th>\n",
       "      <td>E0</td>\n",
       "      <td>14/08/93</td>\n",
       "      <td>Aston Villa</td>\n",
       "      <td>QPR</td>\n",
       "      <td>4</td>\n",
       "      <td>1</td>\n",
       "      <td>H</td>\n",
       "      <td>NaN</td>\n",
       "      <td>NaN</td>\n",
       "      <td>NaN</td>\n",
       "      <td>1993-94</td>\n",
       "    </tr>\n",
       "    <tr>\n",
       "      <th>2</th>\n",
       "      <td>E0</td>\n",
       "      <td>14/08/93</td>\n",
       "      <td>Chelsea</td>\n",
       "      <td>Blackburn</td>\n",
       "      <td>1</td>\n",
       "      <td>2</td>\n",
       "      <td>A</td>\n",
       "      <td>NaN</td>\n",
       "      <td>NaN</td>\n",
       "      <td>NaN</td>\n",
       "      <td>1993-94</td>\n",
       "    </tr>\n",
       "    <tr>\n",
       "      <th>3</th>\n",
       "      <td>E0</td>\n",
       "      <td>14/08/93</td>\n",
       "      <td>Liverpool</td>\n",
       "      <td>Sheffield Weds</td>\n",
       "      <td>2</td>\n",
       "      <td>0</td>\n",
       "      <td>H</td>\n",
       "      <td>NaN</td>\n",
       "      <td>NaN</td>\n",
       "      <td>NaN</td>\n",
       "      <td>1993-94</td>\n",
       "    </tr>\n",
       "    <tr>\n",
       "      <th>4</th>\n",
       "      <td>E0</td>\n",
       "      <td>14/08/93</td>\n",
       "      <td>Man City</td>\n",
       "      <td>Leeds</td>\n",
       "      <td>1</td>\n",
       "      <td>1</td>\n",
       "      <td>D</td>\n",
       "      <td>NaN</td>\n",
       "      <td>NaN</td>\n",
       "      <td>NaN</td>\n",
       "      <td>1993-94</td>\n",
       "    </tr>\n",
       "  </tbody>\n",
       "</table>\n",
       "</div>"
      ],
      "text/plain": [
       "  Div      Date     HomeTeam        AwayTeam  FTHG  FTAG FTR  HTHG  HTAG  HTR  \\\n",
       "0  E0  14/08/93      Arsenal        Coventry     0     3   A   NaN   NaN  NaN   \n",
       "1  E0  14/08/93  Aston Villa             QPR     4     1   H   NaN   NaN  NaN   \n",
       "2  E0  14/08/93      Chelsea       Blackburn     1     2   A   NaN   NaN  NaN   \n",
       "3  E0  14/08/93    Liverpool  Sheffield Weds     2     0   H   NaN   NaN  NaN   \n",
       "4  E0  14/08/93     Man City           Leeds     1     1   D   NaN   NaN  NaN   \n",
       "\n",
       "    Season  \n",
       "0  1993-94  \n",
       "1  1993-94  \n",
       "2  1993-94  \n",
       "3  1993-94  \n",
       "4  1993-94  "
      ]
     },
     "execution_count": 5,
     "metadata": {},
     "output_type": "execute_result"
    }
   ],
   "source": [
    "df.head()"
   ]
  },
  {
   "cell_type": "markdown",
   "metadata": {},
   "source": [
    "#### Columns Used\n",
    "\n",
    "- **Div:** The division the match was played in.\n",
    "- **Date:** The date the match was played.\n",
    "- **HomeTeam:** The name of the home team.\n",
    "- **AwayTeam:** The name of the away team.\n",
    "- **FTHG:** The total number of goals scored by the home team during the match at full time.\n",
    "- **FTAG:** The total number of goals scored by the away team during the match at half time.\n",
    "- **FTR:** The full time result, denoted as 'H' for home team win, 'A' for away team win, or 'D' for draw.\n",
    "- **Season:** The season in which the match was played."
   ]
  },
  {
   "cell_type": "code",
   "execution_count": 6,
   "metadata": {},
   "outputs": [
    {
     "name": "stdout",
     "output_type": "stream",
     "text": [
      "<class 'pandas.core.frame.DataFrame'>\n",
      "RangeIndex: 9664 entries, 0 to 9663\n",
      "Data columns (total 11 columns):\n",
      " #   Column    Non-Null Count  Dtype  \n",
      "---  ------    --------------  -----  \n",
      " 0   Div       9664 non-null   object \n",
      " 1   Date      9664 non-null   object \n",
      " 2   HomeTeam  9664 non-null   object \n",
      " 3   AwayTeam  9664 non-null   object \n",
      " 4   FTHG      9664 non-null   int64  \n",
      " 5   FTAG      9664 non-null   int64  \n",
      " 6   FTR       9664 non-null   object \n",
      " 7   HTHG      8740 non-null   float64\n",
      " 8   HTAG      8740 non-null   float64\n",
      " 9   HTR       8740 non-null   object \n",
      " 10  Season    9664 non-null   object \n",
      "dtypes: float64(2), int64(2), object(7)\n",
      "memory usage: 830.6+ KB\n"
     ]
    }
   ],
   "source": [
    "df.info()"
   ]
  },
  {
   "cell_type": "markdown",
   "metadata": {},
   "source": [
    "### Clean"
   ]
  },
  {
   "cell_type": "markdown",
   "metadata": {},
   "source": [
    "#### Selecting seasons range from 1996 to 2018. \n",
    "> This is the period Arsène Wenger was in charge of Arsenal FC. "
   ]
  },
  {
   "cell_type": "code",
   "execution_count": 9,
   "metadata": {},
   "outputs": [],
   "source": [
    "# Extract only seasons between season 1996-97 and 2017-18.\n",
    "\n",
    "seasons = ['1996-97','1997-98', '1998-99', '1999-00', '2000-01', '2001-02', '2002-03', '2003-04', '2004-05', '2005-06', '2006-07', '2007-08', '2008-09',\n",
    "           '2009-10', '2010-11', '2011-12', '2012-13', '2013-14', '2014-15', '2015-16', '2016-17', '2017-18']\n",
    "\n",
    "df_aw = df.query('Season in @seasons')"
   ]
  },
  {
   "cell_type": "code",
   "execution_count": 13,
   "metadata": {},
   "outputs": [],
   "source": [
    "# Select games where Arsenal was involved.\n",
    "\n",
    "df_aw = df_aw.query('HomeTeam == \"Arsenal\" or AwayTeam == \"Arsenal\"')"
   ]
  },
  {
   "cell_type": "code",
   "execution_count": 15,
   "metadata": {},
   "outputs": [
    {
     "data": {
      "text/html": [
       "<div>\n",
       "<style scoped>\n",
       "    .dataframe tbody tr th:only-of-type {\n",
       "        vertical-align: middle;\n",
       "    }\n",
       "\n",
       "    .dataframe tbody tr th {\n",
       "        vertical-align: top;\n",
       "    }\n",
       "\n",
       "    .dataframe thead th {\n",
       "        text-align: right;\n",
       "    }\n",
       "</style>\n",
       "<table border=\"1\" class=\"dataframe\">\n",
       "  <thead>\n",
       "    <tr style=\"text-align: right;\">\n",
       "      <th></th>\n",
       "      <th>Div</th>\n",
       "      <th>Date</th>\n",
       "      <th>HomeTeam</th>\n",
       "      <th>AwayTeam</th>\n",
       "      <th>FTHG</th>\n",
       "      <th>FTAG</th>\n",
       "      <th>FTR</th>\n",
       "      <th>HTHG</th>\n",
       "      <th>HTAG</th>\n",
       "      <th>HTR</th>\n",
       "      <th>Season</th>\n",
       "    </tr>\n",
       "  </thead>\n",
       "  <tbody>\n",
       "    <tr>\n",
       "      <th>1304</th>\n",
       "      <td>E0</td>\n",
       "      <td>17/08/96</td>\n",
       "      <td>Arsenal</td>\n",
       "      <td>West Ham</td>\n",
       "      <td>2</td>\n",
       "      <td>0</td>\n",
       "      <td>H</td>\n",
       "      <td>2.0</td>\n",
       "      <td>0.0</td>\n",
       "      <td>H</td>\n",
       "      <td>1996-97</td>\n",
       "    </tr>\n",
       "    <tr>\n",
       "      <th>1314</th>\n",
       "      <td>E0</td>\n",
       "      <td>19/08/96</td>\n",
       "      <td>Liverpool</td>\n",
       "      <td>Arsenal</td>\n",
       "      <td>2</td>\n",
       "      <td>0</td>\n",
       "      <td>H</td>\n",
       "      <td>0.0</td>\n",
       "      <td>0.0</td>\n",
       "      <td>D</td>\n",
       "      <td>1996-97</td>\n",
       "    </tr>\n",
       "    <tr>\n",
       "      <th>1326</th>\n",
       "      <td>E0</td>\n",
       "      <td>24/08/96</td>\n",
       "      <td>Leicester</td>\n",
       "      <td>Arsenal</td>\n",
       "      <td>0</td>\n",
       "      <td>2</td>\n",
       "      <td>A</td>\n",
       "      <td>0.0</td>\n",
       "      <td>1.0</td>\n",
       "      <td>A</td>\n",
       "      <td>1996-97</td>\n",
       "    </tr>\n",
       "    <tr>\n",
       "      <th>1335</th>\n",
       "      <td>E0</td>\n",
       "      <td>4/9/1996</td>\n",
       "      <td>Arsenal</td>\n",
       "      <td>Chelsea</td>\n",
       "      <td>3</td>\n",
       "      <td>3</td>\n",
       "      <td>D</td>\n",
       "      <td>1.0</td>\n",
       "      <td>2.0</td>\n",
       "      <td>A</td>\n",
       "      <td>1996-97</td>\n",
       "    </tr>\n",
       "    <tr>\n",
       "      <th>1344</th>\n",
       "      <td>E0</td>\n",
       "      <td>7/9/1996</td>\n",
       "      <td>Aston Villa</td>\n",
       "      <td>Arsenal</td>\n",
       "      <td>2</td>\n",
       "      <td>2</td>\n",
       "      <td>D</td>\n",
       "      <td>1.0</td>\n",
       "      <td>0.0</td>\n",
       "      <td>H</td>\n",
       "      <td>1996-97</td>\n",
       "    </tr>\n",
       "  </tbody>\n",
       "</table>\n",
       "</div>"
      ],
      "text/plain": [
       "     Div      Date     HomeTeam  AwayTeam  FTHG  FTAG FTR  HTHG  HTAG HTR  \\\n",
       "1304  E0  17/08/96      Arsenal  West Ham     2     0   H   2.0   0.0   H   \n",
       "1314  E0  19/08/96    Liverpool   Arsenal     2     0   H   0.0   0.0   D   \n",
       "1326  E0  24/08/96    Leicester   Arsenal     0     2   A   0.0   1.0   A   \n",
       "1335  E0  4/9/1996      Arsenal   Chelsea     3     3   D   1.0   2.0   A   \n",
       "1344  E0  7/9/1996  Aston Villa   Arsenal     2     2   D   1.0   0.0   H   \n",
       "\n",
       "       Season  \n",
       "1304  1996-97  \n",
       "1314  1996-97  \n",
       "1326  1996-97  \n",
       "1335  1996-97  \n",
       "1344  1996-97  "
      ]
     },
     "execution_count": 15,
     "metadata": {},
     "output_type": "execute_result"
    }
   ],
   "source": [
    "df_aw.head()"
   ]
  },
  {
   "cell_type": "markdown",
   "metadata": {},
   "source": [
    "<a id='eda'></a>\n",
    "## Exploratory Data Analysis"
   ]
  },
  {
   "cell_type": "markdown",
   "metadata": {},
   "source": [
    "### Research Question 1  - What is the number of goals scored playing home and away? \n",
    "> **Goals playing home** = 910\n",
    " **Goals playing away** = 668"
   ]
  },
  {
   "cell_type": "code",
   "execution_count": 48,
   "metadata": {},
   "outputs": [
    {
     "name": "stdout",
     "output_type": "stream",
     "text": [
      "910\n",
      "668\n"
     ]
    }
   ],
   "source": [
    "# Goals playing home \n",
    "print(df_aw.query('HomeTeam == \"Arsenal\"').FTHG.sum())\n",
    "\n",
    "# Goals playing away\n",
    "print(df_aw.query('AwayTeam == \"Arsenal\"').FTAG.sum())"
   ]
  },
  {
   "cell_type": "markdown",
   "metadata": {},
   "source": [
    "### Research Question 2  - What is the mean of goals scored at home and away? \n",
    "> **Mean of goals playing home** = 2.17 **Mean of goals playing away** = 1.59"
   ]
  },
  {
   "cell_type": "code",
   "execution_count": 31,
   "metadata": {},
   "outputs": [
    {
     "name": "stdout",
     "output_type": "stream",
     "text": [
      "Div         2.177033\n",
      "Date        2.177033\n",
      "HomeTeam    2.177033\n",
      "AwayTeam    2.177033\n",
      "FTHG        2.177033\n",
      "FTAG        2.177033\n",
      "FTR         2.177033\n",
      "HTHG        2.177033\n",
      "HTAG        2.177033\n",
      "HTR         2.177033\n",
      "Season      2.177033\n",
      "dtype: float64\n"
     ]
    }
   ],
   "source": [
    "# Mean of goals playing home \n",
    "print(df_aw.query('HomeTeam == \"Arsenal\"').FTHG.sum()/(df_aw.query('HomeTeam == \"Arsenal\"').count()))"
   ]
  },
  {
   "cell_type": "code",
   "execution_count": 33,
   "metadata": {},
   "outputs": [
    {
     "name": "stdout",
     "output_type": "stream",
     "text": [
      "Div         1.598086\n",
      "Date        1.598086\n",
      "HomeTeam    1.598086\n",
      "AwayTeam    1.598086\n",
      "FTHG        1.598086\n",
      "FTAG        1.598086\n",
      "FTR         1.598086\n",
      "HTHG        1.598086\n",
      "HTAG        1.598086\n",
      "HTR         1.598086\n",
      "Season      1.598086\n",
      "dtype: float64\n"
     ]
    }
   ],
   "source": [
    "# Mean of goals playing away \n",
    "print(df_aw.query('AwayTeam == \"Arsenal\"').FTAG.sum()/(df_aw.query('AwayTeam == \"Arsenal\"').count()))"
   ]
  },
  {
   "cell_type": "markdown",
   "metadata": {},
   "source": [
    "### Research Question 3  - What is the mean of goals scored in the first and second half? \n",
    "> **Mean of goals scored in the first half:** 0.84 **Mean of goals scored in the second half:** 1.04"
   ]
  },
  {
   "cell_type": "code",
   "execution_count": 44,
   "metadata": {},
   "outputs": [
    {
     "name": "stdout",
     "output_type": "stream",
     "text": [
      "Div         0.84689\n",
      "Date        0.84689\n",
      "HomeTeam    0.84689\n",
      "AwayTeam    0.84689\n",
      "FTHG        0.84689\n",
      "FTAG        0.84689\n",
      "FTR         0.84689\n",
      "HTHG        0.84689\n",
      "HTAG        0.84689\n",
      "HTR         0.84689\n",
      "Season      0.84689\n",
      "dtype: float64\n",
      "Div         1.04067\n",
      "Date        1.04067\n",
      "HomeTeam    1.04067\n",
      "AwayTeam    1.04067\n",
      "FTHG        1.04067\n",
      "FTAG        1.04067\n",
      "FTR         1.04067\n",
      "HTHG        1.04067\n",
      "HTAG        1.04067\n",
      "HTR         1.04067\n",
      "Season      1.04067\n",
      "dtype: float64\n"
     ]
    }
   ],
   "source": [
    "# First and seconf half goals at home\n",
    "\n",
    "fh_goals_home = df_aw.query('HomeTeam == \"Arsenal\"').HTHG.sum()\n",
    "sh_goals_home = (df_aw.query('HomeTeam == \"Arsenal\"').FTHG.sum()-fh_goals_home)       \n",
    "\n",
    "# First and seconf half goals away\n",
    "\n",
    "fh_goals_away = df_aw.query('AwayTeam == \"Arsenal\"').HTAG.sum()\n",
    "sh_goals_away = (df_aw.query('AwayTeam == \"Arsenal\"').FTAG.sum()-fh_goals_away)  \n",
    "\n",
    "# The mean of goals scored in the first half\n",
    "print((fh_goals_home + fh_goals_away)/df_aw.count())\n",
    "\n",
    "# The mean of goals scored in the second half\n",
    "print((sh_goals_home + sh_goals_away)/df_aw.count())"
   ]
  },
  {
   "cell_type": "markdown",
   "metadata": {},
   "source": [
    "<a id='conclusion123'></a>\n",
    "### Conclusions for questions 1 to 3 \n",
    "\n",
    "> Arsenal scored more goals playing at home than playing away from home. The goals are more frequent in the second half. "
   ]
  },
  {
   "cell_type": "markdown",
   "metadata": {},
   "source": [
    "### Research Questions\n",
    "- Distribution of goals per match\n",
    "- Winning percentage against all teams \n",
    "- Winning percentage against the big four\n",
    "- Winning percentage in derbies \n",
    "- Winning percentage in derbies at home and away\n",
    "- Winning percentage in title seasons (96-97, 01-02, 03-04) \n",
    "- Goals scored in title seasons X non-title seasons \n",
    "- Goals conceded in title seasons X non-title seasons "
   ]
  },
  {
   "cell_type": "code",
   "execution_count": null,
   "metadata": {},
   "outputs": [],
   "source": []
  },
  {
   "cell_type": "code",
   "execution_count": null,
   "metadata": {},
   "outputs": [],
   "source": []
  },
  {
   "cell_type": "code",
   "execution_count": null,
   "metadata": {},
   "outputs": [],
   "source": []
  }
 ],
 "metadata": {
  "kernelspec": {
   "display_name": "Python 3",
   "language": "python",
   "name": "python3"
  },
  "language_info": {
   "codemirror_mode": {
    "name": "ipython",
    "version": 3
   },
   "file_extension": ".py",
   "mimetype": "text/x-python",
   "name": "python",
   "nbconvert_exporter": "python",
   "pygments_lexer": "ipython3",
   "version": "3.7.6"
  }
 },
 "nbformat": 4,
 "nbformat_minor": 4
}
